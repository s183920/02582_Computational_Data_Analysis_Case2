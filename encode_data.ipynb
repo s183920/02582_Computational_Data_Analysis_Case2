{
 "cells": [
  {
   "cell_type": "code",
   "execution_count": 1,
   "metadata": {},
   "outputs": [
    {
     "name": "stderr",
     "output_type": "stream",
     "text": [
      "100%|██████████| 23705/23705 [01:23<00:00, 282.29it/s] \n"
     ]
    },
    {
     "data": {
      "text/plain": [
       "<All keys matched successfully>"
      ]
     },
     "execution_count": 1,
     "metadata": {},
     "output_type": "execute_result"
    }
   ],
   "source": [
    "from autoencoder import *\n",
    "import torch\n",
    "from tqdm import tqdm\n",
    "\n",
    "dataset = UTKFaceDataset()\n",
    "\n",
    "encoder = Encoder(encoded_space_dim=256)\n",
    "decoder = Decoder(encoded_space_dim=256)\n",
    "\n",
    "encoder_weights = torch.load(\"models/encoder_256.pt\", map_location=torch.device('cpu'))\n",
    "decoder_weights = torch.load(\"models/decoder_256.pt\", map_location=torch.device('cpu'))\n",
    "\n",
    "encoder.load_state_dict(encoder_weights)\n",
    "decoder.load_state_dict(decoder_weights)\n",
    "\n"
   ]
  },
  {
   "cell_type": "code",
   "execution_count": 8,
   "metadata": {},
   "outputs": [
    {
     "name": "stderr",
     "output_type": "stream",
     "text": [
      "  0%|          | 0/23705 [00:00<?, ?it/s]C:\\Users\\peter\\AppData\\Local\\Temp\\ipykernel_10200\\373435703.py:7: UserWarning: To copy construct from a tensor, it is recommended to use sourceTensor.clone().detach() or sourceTensor.clone().detach().requires_grad_(True), rather than torch.tensor(sourceTensor).\n",
      "  x = encoder(torch.tensor(x.clone(), dtype=torch.float32).unsqueeze(0))\n",
      "100%|██████████| 23705/23705 [05:28<00:00, 72.23it/s]\n"
     ]
    }
   ],
   "source": [
    "from tqdm import tqdm\n",
    "\n",
    "encoder.eval()\n",
    "decoder.eval()\n",
    "encoded_data = []\n",
    "for x in tqdm(dataset.X):\n",
    "    x = encoder(torch.tensor(x.clone(), dtype=torch.float32).unsqueeze(0))\n",
    "    encoded_data.append(x.detach().squeeze(0).numpy())\n"
   ]
  },
  {
   "cell_type": "code",
   "execution_count": 10,
   "metadata": {},
   "outputs": [],
   "source": [
    "encoded_X = np.stack(encoded_data)\n",
    "\n",
    "np.save(\"encoded_data.npz\", encoded_X)"
   ]
  }
 ],
 "metadata": {
  "interpreter": {
   "hash": "08fe0c0a6f4f1a10e21cec8c52b78bcd1d155fe3471bdb4af22096a2f142cc0e"
  },
  "kernelspec": {
   "display_name": "Python 3.8.10 ('env': venv)",
   "language": "python",
   "name": "python3"
  },
  "language_info": {
   "codemirror_mode": {
    "name": "ipython",
    "version": 3
   },
   "file_extension": ".py",
   "mimetype": "text/x-python",
   "name": "python",
   "nbconvert_exporter": "python",
   "pygments_lexer": "ipython3",
   "version": "3.8.10"
  },
  "orig_nbformat": 4
 },
 "nbformat": 4,
 "nbformat_minor": 2
}
