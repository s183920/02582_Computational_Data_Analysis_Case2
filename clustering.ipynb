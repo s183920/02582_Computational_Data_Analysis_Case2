{
 "cells": [
  {
   "cell_type": "code",
   "execution_count": 1,
   "metadata": {},
   "outputs": [],
   "source": [
    "import torch\n",
    "from torch.autograd import Variable\n",
    "import torch.nn.functional as F\n",
    "import torch.utils.data as Data\n",
    "from IPython.display import Image, display, clear_output\n",
    "import os\n",
    "import numpy as np\n",
    "from sklearn.decomposition import PCA\n",
    "from sklearn.model_selection import train_test_split\n",
    "from pathlib import Path\n",
    "import matplotlib.pyplot as plt\n",
    "# This import registers the 3D projection, but is otherwise unused.\n",
    "from mpl_toolkits.mplot3d import Axes3D\n",
    "import scipy.io\n",
    "import pandas as pd\n",
    "from PIL import Image, ImageOps\n",
    "# %matplotlib notebook\n",
    "\n",
    "# get rid of uninteresting warning\n",
    "from matplotlib.axes._axes import _log as matplotlib_axes_logger\n",
    "from sklearn.cluster import KMeans\n",
    "\n",
    "\n",
    "matplotlib_axes_logger.setLevel('ERROR')\n"
   ]
  },
  {
   "cell_type": "code",
   "execution_count": 3,
   "metadata": {},
   "outputs": [
    {
     "name": "stderr",
     "output_type": "stream",
     "text": [
      "100%|██████████| 23705/23705 [01:25<00:00, 278.77it/s]\n"
     ]
    },
    {
     "data": {
      "text/plain": [
       "<All keys matched successfully>"
      ]
     },
     "execution_count": 3,
     "metadata": {},
     "output_type": "execute_result"
    }
   ],
   "source": [
    "from autoencoder import *\n",
    "import torch\n",
    "\n",
    "dataset = UTKFaceDataset()\n",
    "\n",
    "encoder = Encoder(encoded_space_dim=256)\n",
    "decoder = Decoder(encoded_space_dim=256)\n",
    "\n",
    "encoder_weights = torch.load(\"models/encoder_256.pt\", map_location=torch.device('cuda'))\n",
    "decoder_weights = torch.load(\"models/decoder_256.pt\", map_location=torch.device('cuda'))\n",
    "\n",
    "encoder.load_state_dict(encoder_weights)\n",
    "decoder.load_state_dict(decoder_weights)"
   ]
  },
  {
   "cell_type": "code",
   "execution_count": 5,
   "metadata": {},
   "outputs": [
    {
     "data": {
      "text/plain": [
       "Decoder(\n",
       "  (decoder_lin): Sequential(\n",
       "    (0): Linear(in_features=256, out_features=4096, bias=True)\n",
       "    (1): ReLU(inplace=True)\n",
       "  )\n",
       "  (unflatten): Unflatten(dim=1, unflattened_size=(64, 8, 8))\n",
       "  (decoder_conv): Sequential(\n",
       "    (0): ConvTranspose2d(64, 32, kernel_size=(9, 9), stride=(2, 2), padding=(1, 1), output_padding=(1, 1))\n",
       "    (1): BatchNorm2d(32, eps=1e-05, momentum=0.1, affine=True, track_running_stats=True)\n",
       "    (2): ReLU(inplace=True)\n",
       "    (3): ConvTranspose2d(32, 16, kernel_size=(9, 9), stride=(2, 2), padding=(2, 2), output_padding=(1, 1))\n",
       "    (4): BatchNorm2d(16, eps=1e-05, momentum=0.1, affine=True, track_running_stats=True)\n",
       "    (5): ReLU(inplace=True)\n",
       "    (6): ConvTranspose2d(16, 8, kernel_size=(9, 9), stride=(2, 2), padding=(3, 3), output_padding=(1, 1))\n",
       "    (7): BatchNorm2d(8, eps=1e-05, momentum=0.1, affine=True, track_running_stats=True)\n",
       "    (8): ReLU(inplace=True)\n",
       "    (9): ConvTranspose2d(8, 3, kernel_size=(9, 9), stride=(2, 2), padding=(2, 2), output_padding=(1, 1))\n",
       "  )\n",
       "  (post_net): Sequential(\n",
       "    (0): Conv2d(3, 16, kernel_size=(5, 5), stride=(1, 1), padding=(2, 2))\n",
       "    (1): BatchNorm2d(16, eps=1e-05, momentum=0.1, affine=True, track_running_stats=True)\n",
       "    (2): ReLU(inplace=True)\n",
       "    (3): Conv2d(16, 8, kernel_size=(5, 5), stride=(1, 1), padding=(2, 2))\n",
       "    (4): BatchNorm2d(8, eps=1e-05, momentum=0.1, affine=True, track_running_stats=True)\n",
       "    (5): ReLU(inplace=True)\n",
       "    (6): Conv2d(8, 3, kernel_size=(5, 5), stride=(1, 1), padding=(2, 2))\n",
       "  )\n",
       ")"
      ]
     },
     "execution_count": 5,
     "metadata": {},
     "output_type": "execute_result"
    }
   ],
   "source": [
    "encoder.eval()\n",
    "decoder.eval()"
   ]
  },
  {
   "cell_type": "code",
   "execution_count": 21,
   "metadata": {},
   "outputs": [],
   "source": [
    "Z = np.load(\"encoded_data.npy\")\n",
    "import pandas as pd\n",
    "df = pd.read_csv(\"data/info.csv\")"
   ]
  },
  {
   "cell_type": "code",
   "execution_count": 25,
   "metadata": {},
   "outputs": [
    {
     "data": {
      "text/plain": [
       "array([[100,   0,   0],\n",
       "       [100,   0,   0],\n",
       "       [100,   1,   0],\n",
       "       ...,\n",
       "       [  9,   1,   4],\n",
       "       [  9,   1,   4],\n",
       "       [  9,   1,   4]])"
      ]
     },
     "execution_count": 25,
     "metadata": {},
     "output_type": "execute_result"
    }
   ],
   "source": [
    "y = df.iloc[:,2:5].to_numpy()\n",
    "y"
   ]
  },
  {
   "cell_type": "code",
   "execution_count": 26,
   "metadata": {},
   "outputs": [],
   "source": []
  },
  {
   "cell_type": "code",
   "execution_count": 28,
   "metadata": {},
   "outputs": [],
   "source": [
    "import numpy as np\n",
    "from sklearn import metrics\n",
    "\n",
    "def purity_score(y_true, y_pred):\n",
    "    # compute contingency matrix (also called confusion matrix)\n",
    "    contingency_matrix = metrics.cluster.contingency_matrix(y_true, y_pred)\n",
    "    # return purity\n",
    "    return np.sum(np.amax(contingency_matrix, axis=0)) / np.sum(contingency_matrix) \n"
   ]
  },
  {
   "cell_type": "code",
   "execution_count": 32,
   "metadata": {},
   "outputs": [
    {
     "name": "stdout",
     "output_type": "stream",
     "text": [
      "0.6298249314490614\n"
     ]
    }
   ],
   "source": [
    "\n",
    "kmeans = KMeans(n_clusters=16)\n",
    "labels = kmeans.fit_predict(Z)\n",
    "print(purity_score(y[:,1],labels))\n",
    "plt.imshow(\n",
    "    metrics.cluster.contingency_matrix(y[:,1], labels),\n",
    "    interpolation=\"nearest\",cmap=\"Reds\")"
   ]
  }
 ],
 "metadata": {
  "interpreter": {
   "hash": "62a1b5757992d1a3995e12f0b485d6342cf76e76fee9b7e580f143aac990bc37"
  },
  "kernelspec": {
   "display_name": "Python 3.6.14 64-bit ('MRI-to-PET': venv)",
   "language": "python",
   "name": "python3"
  },
  "language_info": {
   "codemirror_mode": {
    "name": "ipython",
    "version": 3
   },
   "file_extension": ".py",
   "mimetype": "text/x-python",
   "name": "python",
   "nbconvert_exporter": "python",
   "pygments_lexer": "ipython3",
   "version": "3.6.15"
  },
  "orig_nbformat": 4
 },
 "nbformat": 4,
 "nbformat_minor": 2
}
