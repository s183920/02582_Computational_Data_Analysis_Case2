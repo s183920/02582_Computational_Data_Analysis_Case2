{
 "cells": [
  {
   "cell_type": "markdown",
   "metadata": {},
   "source": [
    "# Notebook for training AutoEncoder"
   ]
  },
  {
   "cell_type": "markdown",
   "metadata": {},
   "source": [
    "## Imports"
   ]
  },
  {
   "cell_type": "code",
   "execution_count": 1,
   "metadata": {},
   "outputs": [],
   "source": [
    "import torch\n",
    "import numpy as np\n",
    "# This import registers the 3D projection, but is otherwise unused.\n",
    "# get rid of uninteresting warning\n",
    "from dataloader import UTKFaceDataset\n",
    "from torchvision.utils import make_grid\n",
    "\n",
    "from ae import AutoEncoderNet\n",
    "from torch.utils.tensorboard import SummaryWriter\n",
    "\n"
   ]
  },
  {
   "cell_type": "markdown",
   "metadata": {},
   "source": [
    "## Import dataset"
   ]
  },
  {
   "cell_type": "code",
   "execution_count": 2,
   "metadata": {},
   "outputs": [],
   "source": [
    "BATCH_SIZE = 64\n",
    "EPOCH = 10000\n",
    "\n",
    "train_dataset = UTKFaceDataset(gray_scale=False)\n",
    "train_loader = torch.utils.data.DataLoader(\n",
    "    train_dataset, \n",
    "    BATCH_SIZE, \n",
    "    shuffle=True, \n",
    "    num_workers=4, \n",
    "    pin_memory=True)"
   ]
  },
  {
   "cell_type": "code",
   "execution_count": 3,
   "metadata": {},
   "outputs": [],
   "source": [
    "test_dataset = UTKFaceDataset(data_type=\"test\",gray_scale=False)\n",
    "test_loader = torch.utils.data.DataLoader(\n",
    "    test_dataset, \n",
    "    BATCH_SIZE, \n",
    "    shuffle=True, \n",
    "    num_workers=4, \n",
    "    pin_memory=True)"
   ]
  },
  {
   "cell_type": "markdown",
   "metadata": {},
   "source": [
    "## Early stopping"
   ]
  },
  {
   "cell_type": "code",
   "execution_count": 4,
   "metadata": {},
   "outputs": [],
   "source": [
    "# from https://gist.github.com/stefanonardo/693d96ceb2f531fa05db530f3e21517d\n",
    "\n",
    "class EarlyStopping(object):\n",
    "    def __init__(self, mode='min', min_delta=0, patience=10, percentage=False):\n",
    "        self.mode = mode\n",
    "        self.min_delta = min_delta\n",
    "        self.patience = patience\n",
    "        self.best = None\n",
    "        self.bestModel = None\n",
    "        self.num_bad_epochs = 0\n",
    "        self.is_better = None\n",
    "        self._init_is_better(mode, min_delta, percentage)\n",
    "\n",
    "        if patience == 0:\n",
    "            self.is_better = lambda a, b: True\n",
    "            self.step = lambda a: False\n",
    "\n",
    "    def step(self, metrics, curmodel):\n",
    "        if self.best is None:\n",
    "            self.best = metrics\n",
    "            self.bestModel = curmodel\n",
    "            return False\n",
    "\n",
    "        if torch.isnan(metrics):\n",
    "            return True\n",
    "\n",
    "        if self.is_better(metrics, self.best):\n",
    "            self.num_bad_epochs = 0\n",
    "            self.best = metrics\n",
    "            self.bestModel = curmodel\n",
    "        else:\n",
    "            self.num_bad_epochs += 1\n",
    "\n",
    "        if self.num_bad_epochs >= self.patience:\n",
    "            return True\n",
    "\n",
    "        return False\n",
    "\n",
    "    def _init_is_better(self, mode, min_delta, percentage):\n",
    "        if mode not in {'min', 'max'}:\n",
    "            raise ValueError('mode ' + mode + ' is unknown!')\n",
    "        if not percentage:\n",
    "            if mode == 'min':\n",
    "                self.is_better = lambda a, best: a < best - min_delta\n",
    "            if mode == 'max':\n",
    "                self.is_better = lambda a, best: a > best + min_delta\n",
    "        else:\n",
    "            if mode == 'min':\n",
    "                self.is_better = lambda a, best: a < best - (\n",
    "                            best * min_delta / 100)\n",
    "            if mode == 'max':\n",
    "                self.is_better = lambda a, best: a > best + (\n",
    "                            best * min_delta / 100)\n",
    "                \n",
    "\n",
    "                \n",
    "# play around with patience\n",
    "# The early stopping module takes in the following parameters\n",
    "# mode='min' / 'max' - whether smaller or lager is better\n",
    "# min_delta=0 - a delta that can be used to be more lenient when evaulating \"bad\" epochs\n",
    "# patience=10 - how many \"bad\" epochs that are allowed(epoches with worse score than the current best)\n",
    "# percentage=False / True - whether the criterion is in percentage or not\n",
    "earlyStopping = EarlyStopping(patience=5)"
   ]
  },
  {
   "cell_type": "markdown",
   "metadata": {},
   "source": [
    "### 3)  Training"
   ]
  },
  {
   "cell_type": "code",
   "execution_count": 5,
   "metadata": {},
   "outputs": [
    {
     "name": "stdout",
     "output_type": "stream",
     "text": [
      "AutoEncoderNet(\n",
      "  (encoder): Sequential(\n",
      "    (0): Conv2d(3, 16, kernel_size=(5, 5), stride=(1, 1))\n",
      "    (1): ReLU()\n",
      "    (2): Conv2d(16, 32, kernel_size=(5, 5), stride=(2, 2))\n",
      "    (3): BatchNorm2d(32, eps=1e-05, momentum=0.1, affine=True, track_running_stats=True)\n",
      "    (4): ReLU()\n",
      "    (5): Conv2d(32, 64, kernel_size=(5, 5), stride=(2, 2))\n",
      "    (6): BatchNorm2d(64, eps=1e-05, momentum=0.1, affine=True, track_running_stats=True)\n",
      "    (7): ReLU()\n",
      "    (8): Conv2d(64, 64, kernel_size=(5, 5), stride=(2, 2))\n",
      "    (9): BatchNorm2d(64, eps=1e-05, momentum=0.1, affine=True, track_running_stats=True)\n",
      "    (10): ReLU()\n",
      "    (11): Flatten(start_dim=1, end_dim=-1)\n",
      "    (12): Linear(in_features=28224, out_features=512, bias=True)\n",
      "    (13): ReLU()\n",
      "    (14): Linear(in_features=512, out_features=256, bias=True)\n",
      "  )\n",
      "  (decoder): Sequential(\n",
      "    (0): Linear(in_features=256, out_features=28224, bias=True)\n",
      "    (1): ReLU()\n",
      "    (2): Unflatten(dim=1, unflattened_size=(64, 21, 21))\n",
      "    (3): ConvTranspose2d(64, 64, kernel_size=(5, 5), stride=(2, 2), output_padding=(1, 1))\n",
      "    (4): BatchNorm2d(64, eps=1e-05, momentum=0.1, affine=True, track_running_stats=True)\n",
      "    (5): ReLU()\n",
      "    (6): ConvTranspose2d(64, 32, kernel_size=(5, 5), stride=(2, 2), output_padding=(1, 1))\n",
      "    (7): BatchNorm2d(32, eps=1e-05, momentum=0.1, affine=True, track_running_stats=True)\n",
      "    (8): ReLU()\n",
      "    (9): ConvTranspose2d(32, 16, kernel_size=(5, 5), stride=(2, 2), output_padding=(1, 1))\n",
      "    (10): BatchNorm2d(16, eps=1e-05, momentum=0.1, affine=True, track_running_stats=True)\n",
      "    (11): ReLU()\n",
      "    (12): ConvTranspose2d(16, 3, kernel_size=(5, 5), stride=(1, 1))\n",
      "    (13): Sigmoid()\n",
      "  )\n",
      ")\n"
     ]
    }
   ],
   "source": [
    "classes = [0,1]\n",
    "device = \"cuda\"\n",
    "\n",
    "learning_rate = 0.001\n",
    "# L2 Regularization is added to the optimizer as weight decay, use a number between 0 and 1\n",
    "# If more regularization is desired then you can add dropout to the network \n",
    "weight_decay = 0.0\n",
    "    \n",
    "aenet = AutoEncoderNet(n_channels=3, dim_last_layer=(64, 21, 21), latent_features=256)     # define the network\n",
    "aenet = aenet.to(device)\n",
    "\n",
    "print(aenet)  # net architecture\n",
    "optimizer = torch.optim.Adam(aenet.parameters(), lr=learning_rate, weight_decay=weight_decay)\n",
    "loss_func = torch.nn.MSELoss()  # MSE loss function\n"
   ]
  },
  {
   "cell_type": "code",
   "execution_count": 6,
   "metadata": {
    "scrolled": false
   },
   "outputs": [],
   "source": [
    "writer = SummaryWriter()\n",
    "\n",
    "# train the neural network\n",
    "average_test_loss=[]\n",
    "average_train_loss=[]\n",
    "for epoch in range(EPOCH):  # loop over the dataset multiple times\n",
    "    print(f\"Epoch {epoch+1}/{EPOCH}\")\n",
    "    train_loss_graph = 0\n",
    "    aenet.train()\n",
    "    for i, data in enumerate(train_loader, 0):\n",
    "        # get the inputs; data is a list of [inputs, labels]\n",
    "        xtrain, ytrain = data\n",
    "        xtrain = xtrain.to(device)\n",
    "        # forward + backward + optimize\n",
    "        latent_space, x_reconstruction = aenet(xtrain)\n",
    "\n",
    "        loss = loss_func(x_reconstruction, xtrain)\n",
    "        train_loss_graph += loss.item() * xtrain.shape[0] #Multiply with the current batchsize to get pr. sample loss\n",
    "        \n",
    "        # zero the parameter gradients\n",
    "        optimizer.zero_grad()\n",
    "        loss.backward()\n",
    "        optimizer.step()\n",
    "\n",
    "    # testing\n",
    "    test_loss_graph  = 0\n",
    "    with torch.no_grad():\n",
    "        aenet.eval()\n",
    "        for data in test_loader:\n",
    "            xtest, ytest = data\n",
    "            xtest = xtest.to(device)\n",
    "            latent_space, x_reconstruction = aenet(xtest)\n",
    "            loss = loss_func(x_reconstruction, xtest)\n",
    "            test_loss_graph += loss.item() * xtest.shape[0] #Multiply with the current batchsize to get pr. sample loss\n",
    "\n",
    "    writer.add_scalar('Loss/train',  train_loss_graph/len(train_dataset),epoch)\n",
    "    writer.add_scalar('Loss/test', test_loss_graph/len(test_dataset),epoch)\n",
    "\n",
    "    # plotting code from dtu deep learning course\n",
    "    if epoch % 10 == 0:\n",
    "\n",
    "        grid1 = np.asarray(make_grid(xtest.cpu(),nrow=4,ncol=4))\n",
    "        grid2 = np.asarray(make_grid(x_reconstruction.cpu(),nrow=4,ncol=4))\n",
    "        writer.add_image('True', grid1, epoch)\n",
    "        writer.add_image('Reconstructed', grid2, epoch)\n",
    "\n",
    "    if earlyStopping.step(torch.tensor(test_loss_graph/len(test_dataset)),aenet):\n",
    "        print(\"Stopping early\") \n",
    "        aenet = earlyStopping.bestModel\n",
    "        break\n",
    "\n",
    "print('Finished Training')\n",
    "\n",
    "import time\n",
    "current_time = time.time()\n",
    "torch.save(aenet.state_dict(), f\"models/{current_time}.pt\")"
   ]
  }
 ],
 "metadata": {
  "kernelspec": {
   "display_name": "Python 3",
   "language": "python",
   "name": "python3"
  },
  "language_info": {
   "codemirror_mode": {
    "name": "ipython",
    "version": 3
   },
   "file_extension": ".py",
   "mimetype": "text/x-python",
   "name": "python",
   "nbconvert_exporter": "python",
   "pygments_lexer": "ipython3",
   "version": "3.6.15"
  }
 },
 "nbformat": 4,
 "nbformat_minor": 4
}
